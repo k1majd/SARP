{
 "cells": [
  {
   "cell_type": "code",
   "execution_count": null,
   "metadata": {},
   "outputs": [
    {
     "ename": "",
     "evalue": "",
     "output_type": "error",
     "traceback": [
      "\u001b[1;31mFailed to start the Kernel. \n",
      "\u001b[1;31mTraceback (most recent call last):\n",
      "\u001b[1;31m  File \"/usr/lib/python3.8/runpy.py\", line 194, in _run_module_as_main\n",
      "\u001b[1;31m    return _run_code(code, main_globals, None,\n",
      "\u001b[1;31m  File \"/usr/lib/python3.8/runpy.py\", line 87, in _run_code\n",
      "\u001b[1;31m    exec(code, run_globals)\n",
      "\u001b[1;31m  File \"/home/local/ASUAD/kmajd1/.cache/pypoetry/virtualenvs/sarp-cWytYF7L-py3.8/lib/python3.8/site-packages/ipykernel_launcher.py\", line 15, in <module>\n",
      "\u001b[1;31m    from ipykernel import kernelapp as app\n",
      "\u001b[1;31m  File \"/home/local/ASUAD/kmajd1/.cache/pypoetry/virtualenvs/sarp-cWytYF7L-py3.8/lib/python3.8/site-packages/ipykernel/kernelapp.py\", line 19, in <module>\n",
      "\u001b[1;31m    from IPython.core.application import (  # type:ignore[attr-defined]\n",
      "\u001b[1;31m  File \"/home/local/ASUAD/kmajd1/.cache/pypoetry/virtualenvs/sarp-cWytYF7L-py3.8/lib/python3.8/site-packages/IPython/__init__.py\", line 30, in <module>\n",
      "\u001b[1;31m    raise ImportError(\n",
      "\u001b[1;31mImportError: \n",
      "\u001b[1;31mIPython 8.13+ supports Python 3.9 and above, following NEP 29.\n",
      "\u001b[1;31mIPython 8.0-8.12 supports Python 3.8 and above, following NEP 29.\n",
      "\u001b[1;31mWhen using Python 2.7, please install IPython 5.x LTS Long Term Support version.\n",
      "\u001b[1;31mPython 3.3 and 3.4 were supported up to IPython 6.x.\n",
      "\u001b[1;31mPython 3.5 was supported with IPython 7.0 to 7.9.\n",
      "\u001b[1;31mPython 3.6 was supported with IPython up to 7.16.\n",
      "\u001b[1;31mPython 3.7 was still supported with the 7.x branch.\n",
      "\u001b[1;31m\n",
      "\u001b[1;31mSee IPython `README.rst` file for more information:\n",
      "\u001b[1;31m\n",
      "\u001b[1;31m    https://github.com/ipython/ipython/blob/main/README.rst. \n",
      "\u001b[1;31mView Jupyter <a href='command:jupyter.viewOutput'>log</a> for further details."
     ]
    }
   ],
   "source": [
    "import os\n",
    "import tensorflow as tf\n",
    "from tensorflow import keras\n",
    "import numpy as np\n",
    "import matplotlib.pyplot as plt\n",
    "from sarp.utils import load_wander_data, separate_train_test, load_transition_data"
   ]
  },
  {
   "cell_type": "code",
   "execution_count": 2,
   "metadata": {},
   "outputs": [
    {
     "ename": "UndefVarError",
     "evalue": "UndefVarError: tf not defined",
     "output_type": "error",
     "traceback": [
      "UndefVarError: tf not defined\n",
      "\n",
      "Stacktrace:\n",
      " [1] top-level scope at none:0"
     ]
    }
   ],
   "source": [
    "gpus = tf.config.experimental.list_physical_devices(\"GPU\")\n",
    "if gpus:\n",
    "    try:\n",
    "        tf.config.experimental.set_virtual_device_configuration(\n",
    "            gpus[0],\n",
    "            [tf.config.experimental.VirtualDeviceConfiguration(memory_limit=5120)],\n",
    "        )\n",
    "    except RuntimeError as e:\n",
    "        print(e)"
   ]
  },
  {
   "cell_type": "markdown",
   "metadata": {},
   "source": [
    "This notebook provides an example of policy repair using SARP for the robot navigation in hospital. This script assumes that a pre-trained policy and a predictive model are already available. To pre-train a policy for this example run [0_pretrain_policy.py](0_pretrain_policy.py). Also to train a predictive model run [1_pretrain_predictive_model.py](1_pretrain_predictive_model.py). Here are the descriptions of models:\n",
    "- policy - input: the system state that includes the robot's goal, distancc and heading toward goal, and range sensor readings - output: linear and angular velocities.\n",
    "- predictive model - input: states and actions - output: collision [0, 1] or no collision [1, 0]."
   ]
  },
  {
   "cell_type": "code",
   "execution_count": 3,
   "metadata": {},
   "outputs": [],
   "source": []
  },
  {
   "cell_type": "code",
   "execution_count": null,
   "metadata": {},
   "outputs": [],
   "source": []
  }
 ],
 "metadata": {
  "kernelspec": {
   "display_name": "Python 3",
   "language": "python",
   "name": "python3"
  },
  "language_info": {
   "codemirror_mode": {
    "name": "ipython",
    "version": 3
   },
   "file_extension": ".py",
   "mimetype": "text/x-python",
   "name": "python",
   "nbconvert_exporter": "python",
   "pygments_lexer": "ipython3",
   "version": "3.8.10"
  }
 },
 "nbformat": 4,
 "nbformat_minor": 2
}
