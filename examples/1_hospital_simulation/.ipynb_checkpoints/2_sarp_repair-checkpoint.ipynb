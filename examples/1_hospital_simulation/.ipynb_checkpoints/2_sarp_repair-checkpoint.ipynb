{
 "cells": [
  {
   "cell_type": "code",
   "execution_count": 1,
   "metadata": {},
   "outputs": [
    {
     "ename": "ArgumentError",
     "evalue": "ArgumentError: Package os not found in current path:\n- Run `import Pkg; Pkg.add(\"os\")` to install the os package.\n",
     "output_type": "error",
     "traceback": [
      "ArgumentError: Package os not found in current path:\n",
      "- Run `import Pkg; Pkg.add(\"os\")` to install the os package.\n",
      "\n",
      "\n",
      "Stacktrace:\n",
      " [1] require(::Module, ::Symbol) at ./loading.jl:823\n",
      " [2] include_string(::Module, ::String, ::String) at ./loading.jl:1008\n",
      " [3] #invokelatest#1 at ./essentials.jl:697 [inlined]\n",
      " [4] invokelatest at ./essentials.jl:696 [inlined]\n",
      " [5] (::getfield(VSCodeServer, Symbol(\"##194#195\")){VSCodeServer.NotebookRunCellArguments,String})() at /home/local/ASUAD/kmajd1/.vscode/extensions/julialang.language-julia-1.47.2/scripts/packages/VSCodeServer/src/serve_notebook.jl:19\n",
      " [6] withpath(::getfield(VSCodeServer, Symbol(\"##194#195\")){VSCodeServer.NotebookRunCellArguments,String}, ::String) at /home/local/ASUAD/kmajd1/.vscode/extensions/julialang.language-julia-1.47.2/scripts/packages/VSCodeServer/src/repl.jl:249\n",
      " [7] notebook_runcell_request(::VSCodeServer.JSONRPC.JSONRPCEndpoint{Base.PipeEndpoint,Base.PipeEndpoint}, ::VSCodeServer.NotebookRunCellArguments) at /home/local/ASUAD/kmajd1/.vscode/extensions/julialang.language-julia-1.47.2/scripts/packages/VSCodeServer/src/serve_notebook.jl:13\n",
      " [8] dispatch_msg(::VSCodeServer.JSONRPC.JSONRPCEndpoint{Base.PipeEndpoint,Base.PipeEndpoint}, ::VSCodeServer.JSONRPC.MsgDispatcher, ::Dict{String,Any}) at /home/local/ASUAD/kmajd1/.vscode/extensions/julialang.language-julia-1.47.2/scripts/packages/JSONRPC/src/typed.jl:67\n",
      " [9] #serve_notebook#196(::String, ::Function, ::String, ::Base.CoreLogging.SimpleLogger) at /home/local/ASUAD/kmajd1/.vscode/extensions/julialang.language-julia-1.47.2/scripts/packages/VSCodeServer/src/serve_notebook.jl:139\n",
      " [10] (::getfield(VSCodeServer, Symbol(\"#kw##serve_notebook\")))(::NamedTuple{(:crashreporting_pipename,),Tuple{String}}, ::typeof(VSCodeServer.serve_notebook), ::String, ::Base.CoreLogging.SimpleLogger) at ./none:0\n",
      " [11] top-level scope at /home/local/ASUAD/kmajd1/.vscode/extensions/julialang.language-julia-1.47.2/scripts/notebook/notebook.jl:32"
     ]
    }
   ],
   "source": [
    "import os\n",
    "import tensorflow as tf\n",
    "from tensorflow import keras\n",
    "import numpy as np\n",
    "import matplotlib.pyplot as plt\n",
    "from sarp.utils import load_wander_data, separate_train_test, load_transition_data"
   ]
  },
  {
   "cell_type": "code",
   "execution_count": 2,
   "metadata": {},
   "outputs": [
    {
     "ename": "UndefVarError",
     "evalue": "UndefVarError: tf not defined",
     "output_type": "error",
     "traceback": [
      "UndefVarError: tf not defined\n",
      "\n",
      "Stacktrace:\n",
      " [1] top-level scope at none:0"
     ]
    }
   ],
   "source": [
    "gpus = tf.config.experimental.list_physical_devices(\"GPU\")\n",
    "if gpus:\n",
    "    try:\n",
    "        tf.config.experimental.set_virtual_device_configuration(\n",
    "            gpus[0],\n",
    "            [tf.config.experimental.VirtualDeviceConfiguration(memory_limit=5120)],\n",
    "        )\n",
    "    except RuntimeError as e:\n",
    "        print(e)"
   ]
  },
  {
   "cell_type": "markdown",
   "metadata": {},
   "source": [
    "This notebook provides an example of policy repair using SARP for the robot navigation in hospital. This script assumes that a pre-trained policy and a predictive model are already available. To pre-train a policy for this example run [0_pretrain_policy.py](0_pretrain_policy.py). Also to train a predictive model run [1_pretrain_predictive_model.py](1_pretrain_predictive_model.py). Here are the descriptions of models:\n",
    "- policy - input: the system state that includes the robot's goal, distancc and heading toward goal, and range sensor readings - output: linear and angular velocities.\n",
    "- predictive model - input: states and actions - output: collision [0, 1] or no collision [1, 0]."
   ]
  },
  {
   "cell_type": "code",
   "execution_count": 3,
   "metadata": {},
   "outputs": [],
   "source": []
  },
  {
   "cell_type": "code",
   "execution_count": null,
   "metadata": {},
   "outputs": [],
   "source": []
  }
 ],
 "metadata": {
  "kernelspec": {
   "display_name": "Julia 1.0.4",
   "language": "julia",
   "name": "julia-1.0"
  },
  "language_info": {
   "file_extension": ".jl",
   "mimetype": "application/julia",
   "name": "julia",
   "version": "1.0.4"
  }
 },
 "nbformat": 4,
 "nbformat_minor": 2
}
