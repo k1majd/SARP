{
 "cells": [
  {
   "cell_type": "code",
   "execution_count": 1,
   "metadata": {},
   "outputs": [],
   "source": [
    "import os\n",
    "import tensorflow as tf\n",
    "from tensorflow import keras\n",
    "import numpy as np\n",
    "import matplotlib.pyplot as plt\n",
    "import copy\n",
    "from sarp.utils import load_expert_data_prosthesis, separate_train_test, combine_nets, mini_batch"
   ]
  },
  {
   "cell_type": "code",
   "execution_count": 2,
   "metadata": {},
   "outputs": [],
   "source": [
    "gpus = tf.config.experimental.list_physical_devices(\"GPU\")\n",
    "if gpus:\n",
    "    try:\n",
    "        tf.config.experimental.set_virtual_device_configuration(\n",
    "            gpus[0],\n",
    "            [tf.config.experimental.VirtualDeviceConfiguration(memory_limit=5120)],\n",
    "        )\n",
    "    except RuntimeError as e:\n",
    "        print(e)\n",
    "\n",
    "current_dir = os.path.dirname(os.path.abspath(\"3_sarp_repair_full_obs.ipynb\"))"
   ]
  },
  {
   "attachments": {},
   "cell_type": "markdown",
   "metadata": {},
   "source": [
    "This notebook provides an example of policy repair using SARP for the lower-leg prosthesis. This script assumes that a pre-trained policy and a predictive model are already available. To pre-train a policy for this example run [1_pretrain_policy_full_obs.py](1_pretrain_policy_full_obs.py). Also to train a predictive model run [2_pretrain_predictive_model_full_obs.py](2_pretrain_predictive_model_full_obs.py). Here are the descriptions of models:\n",
    "- policy - input: the system full state that includes a history of 10 previous joint sensor and pressure sensor readings - output: ankle angle for the next 30 time steps.\n",
    "- predictive model - input: states and actions - output: the pressure values for the next 30 time steps. "
   ]
  },
  {
   "attachments": {},
   "cell_type": "markdown",
   "metadata": {},
   "source": [
    "#### Laod dataset\n",
    "First, we load the expert demonstrations for repair."
   ]
  },
  {
   "cell_type": "code",
   "execution_count": 3,
   "metadata": {},
   "outputs": [
    {
     "name": "stderr",
     "output_type": "stream",
     "text": [
      "2023-07-08 21:14:48.384343: I tensorflow/core/platform/cpu_feature_guard.cc:151] This TensorFlow binary is optimized with oneAPI Deep Neural Network Library (oneDNN) to use the following CPU instructions in performance-critical operations:  AVX2 FMA\n",
      "To enable them in other operations, rebuild TensorFlow with the appropriate compiler flags.\n"
     ]
    }
   ],
   "source": [
    "# load the expert data\n",
    "data_dir = current_dir + f\"/data/expert_data/sample1\"\n",
    "\n",
    "data = load_expert_data_prosthesis(data_dir, 10, 30, type=\"full_obs\")\n",
    "(\n",
    "    s_train,\n",
    "    a_train,\n",
    "    p_train,\n",
    "    s_val,\n",
    "    a_val,\n",
    "    p_val,\n",
    "    s_test,\n",
    "    a_test,\n",
    "    p_test,\n",
    ") = data\n",
    "s_train = tf.convert_to_tensor(s_train, dtype=tf.float32)\n",
    "a_train = tf.convert_to_tensor(a_train, dtype=tf.float32)\n",
    "p_train = tf.convert_to_tensor(p_train, dtype=tf.float32)\n",
    "s_val = tf.convert_to_tensor(s_val, dtype=tf.float32)\n",
    "a_val = tf.convert_to_tensor(a_val, dtype=tf.float32)\n",
    "p_val = tf.convert_to_tensor(p_val, dtype=tf.float32)\n",
    "s_test = tf.convert_to_tensor(s_test, dtype=tf.float32)\n",
    "a_test = tf.convert_to_tensor(a_test, dtype=tf.float32)\n",
    "p_test = tf.convert_to_tensor(p_test, dtype=tf.float32)\n"
   ]
  },
  {
   "attachments": {},
   "cell_type": "markdown",
   "metadata": {},
   "source": [
    "#### Load and megre models\n",
    "Here, we load the policy and predictive models, then we merge them in a series fashion to be used in repair."
   ]
  },
  {
   "cell_type": "code",
   "execution_count": 4,
   "metadata": {},
   "outputs": [
    {
     "name": "stdout",
     "output_type": "stream",
     "text": [
      "WARNING:tensorflow:No training configuration found in save file, so the model was *not* compiled. Compile it manually.\n",
      "WARNING:tensorflow:No training configuration found in save file, so the model was *not* compiled. Compile it manually.\n",
      "Model: \"repair_model\"\n",
      "_________________________________________________________________\n",
      " Layer (type)                Output Shape              Param #   \n",
      "=================================================================\n",
      " policy_layer_1 (Dense)      multiple                  83268     \n",
      "                                                                 \n",
      " policy_layer_2 (Dense)      multiple                  1057812   \n",
      "                                                                 \n",
      " policy_layer_3 (Dense)      multiple                  30870     \n",
      "                                                                 \n",
      " Predictive_layer_1 (Dense)  multiple                  19968     \n",
      "                                                                 \n",
      " Predictive_layer_2 (Dense)  multiple                  262656    \n",
      "                                                                 \n",
      " Predictive_layer_3 (Dense)  multiple                  61560     \n",
      "                                                                 \n",
      "=================================================================\n",
      "Total params: 1,516,134\n",
      "Trainable params: 1,516,134\n",
      "Non-trainable params: 0\n",
      "_________________________________________________________________\n"
     ]
    }
   ],
   "source": [
    "# load the models\n",
    "model_policy_orig = keras.models.load_model(\n",
    "    current_dir\n",
    "    + f\"/trained_models/policy_full_obs/model\"\n",
    "    )\n",
    "model_predictive = keras.models.load_model(\n",
    "    current_dir\n",
    "    + f\"/trained_models/predictive_full_obs/model\"\n",
    "    )\n",
    "\n",
    "# combine the models, state_indices_passed is the indices of the states that are passed to the predictive model\n",
    "model_combined = combine_nets(model_policy_orig, model_predictive, state_indices_passed=[s_train.shape[1]-i for i in range(8, 0, -1)])\n",
    "\n",
    "# keep only the policy part of the combined model to be trained\n",
    "for layer in model_combined.layers:\n",
    "    if layer.name.split(\"_\")[0] == \"policy\":\n",
    "        layer.trainable = True\n",
    "    else:\n",
    "        layer.trainable = False\n",
    "_,_ = model_combined.predict(s_train[0:1])"
   ]
  },
  {
   "attachments": {},
   "cell_type": "markdown",
   "metadata": {},
   "source": [
    "#### Define the optimization parameters\n",
    "\n",
    "We first define the loss function, lagrangian penalty terms and the quadratic penalty terms. We assum the following constraint:\n",
    "1. Constraint on pressure: $p\\leq50$         $\\Longrightarrow g_{pres} = ReLU(p-50)$\n",
    "\n",
    "The augmented loss is formulated as \n",
    "\n",
    "\\begin{align} \n",
    "\\mathcal{L}^a =  \\mathcal{L}_{original} -\\lambda_{pres} g_{pres} + \\frac{\\mu_{pres}}{2}g^2_{pres}\\nonumber\n",
    "\\end{align}"
   ]
  },
  {
   "cell_type": "code",
   "execution_count": 6,
   "metadata": {},
   "outputs": [],
   "source": [
    "# optimization parameters\n",
    "batch_size = 32\n",
    "epochs = 100\n",
    "params = {\n",
    "    \"lambda_pres\": tf.constant(0.0, dtype=\"float32\"),\n",
    "    \"mu_pres\": tf.constant(5.0, dtype=\"float32\"),\n",
    "    \"eta_pres\": tf.constant(0.001, dtype=\"float32\"),\n",
    "    \"beta_pres\": tf.constant(5.0, dtype=\"float32\"),\n",
    "}\n",
    "learning_rate = 0.00001\n",
    "\n",
    "# create data batches\n",
    "batches = mini_batch(\n",
    "    tf.concat(s_train,0),\n",
    "    tf.concat(a_train,0), \n",
    "    tf.concat(p_train,0), \n",
    "    batch_size,\n",
    "    )\n"
   ]
  },
  {
   "cell_type": "code",
   "execution_count": 7,
   "metadata": {},
   "outputs": [],
   "source": [
    "def original_loss(y_true, y_pred):\n",
    "        return tf.reduce_mean(tf.square(y_true - y_pred))\n",
    "\n",
    "def pres_penalty(y):\n",
    "    return tf.reduce_sum(tf.square(tf.nn.relu(y[:, :4] - 50)))\n",
    "\n",
    "def pres_lagrangian(y):\n",
    "    return tf.reduce_sum(tf.nn.relu(y[:, :4] - 50))\n",
    "\n",
    "def augmented_loss(\n",
    "    s, a, params\n",
    "):\n",
    "    a_pred, p_pred = model_combined(s)\n",
    "    loss_value = (\n",
    "            100 * original_loss(a, a_pred)\n",
    "            - params[\"lambda_pres\"] * pres_lagrangian(p_pred)\n",
    "            + params[\"mu_pres\"] / 2 * pres_penalty(p_pred)\n",
    "        )\n",
    "    return (\n",
    "            loss_value,\n",
    "            original_loss(a, a_pred),\n",
    "            pres_lagrangian(p_pred),\n",
    "        )"
   ]
  },
  {
   "attachments": {},
   "cell_type": "markdown",
   "metadata": {},
   "source": [
    "Now we define the optimizer and the policy update step."
   ]
  },
  {
   "cell_type": "code",
   "execution_count": 8,
   "metadata": {},
   "outputs": [],
   "source": [
    "class LearningRateScheduler():\n",
    "    def __init__(self, optimizer, lr_min=5e-5, decay=0.1, patience=10, loss_tol=0.0001):\n",
    "        self.lr_min = lr_min\n",
    "        self.patience = patience\n",
    "        self.decay = decay\n",
    "        self.optimizer = optimizer\n",
    "        self.loss_tol = loss_tol\n",
    "        self.counter = 0\n",
    "        self.loss_prev = 10000\n",
    "\n",
    "    def on_batch_end(self, loss):\n",
    "        if self.loss_prev - loss > self.loss_tol:\n",
    "            pass\n",
    "        else:\n",
    "            self.counter += 1\n",
    "            if self.counter > self.patience:\n",
    "                self.counter = 0\n",
    "                new_lr = self.optimizer.learning_rate * self.decay\n",
    "                if new_lr.numpy() >= self.lr_min:\n",
    "                    self.optimizer.learning_rate.assign(new_lr)\n",
    "        \n",
    "        self.loss_prev = loss\n",
    "\n",
    "\n",
    "optimizer = tf.keras.optimizers.Adam(learning_rate=learning_rate)\n",
    "lr_scheduler = LearningRateScheduler(optimizer, lr_min=5e-5, decay=0.1, patience=10, loss_tol=0.0001)\n",
    "\n",
    "@tf.function\n",
    "def train_step(\n",
    "    s, a, params\n",
    "):\n",
    "    with tf.GradientTape() as tape:\n",
    "        loss_value, _, _ = augmented_loss(\n",
    "            s, a, params\n",
    "        )\n",
    "    grads = tape.gradient(loss_value, model_combined.trainable_variables)\n",
    "    optimizer.apply_gradients(zip(grads, model_combined.trainable_variables))\n",
    "    return loss_value"
   ]
  },
  {
   "attachments": {},
   "cell_type": "markdown",
   "metadata": {},
   "source": [
    "#### Repair the policy "
   ]
  },
  {
   "attachments": {},
   "cell_type": "markdown",
   "metadata": {},
   "source": [
    "Here we repair the policy in the loop and adjust the lagrangian multiplier and penalty coefficient accordingly. "
   ]
  },
  {
   "cell_type": "code",
   "execution_count": 9,
   "metadata": {},
   "outputs": [],
   "source": [
    "class MetricCollector():\n",
    "    def __init__(self):\n",
    "        self.loss = {'train':[], 'test':[]}\n",
    "        self.pres = {'train':[], 'test':[]}\n",
    "        self.best_weights = []\n",
    "    \n",
    "    def update_state(self, s_train, a_train, s_test, a_test, params):\n",
    "        _, loss_train, pres_train = augmented_loss(\n",
    "            s_train, a_train, params\n",
    "        )\n",
    "        _, loss_test, pres_test = augmented_loss(\n",
    "            s_test, a_test, params\n",
    "        )\n",
    "        self.loss['train'].append(loss_train.numpy())\n",
    "        self.loss['test'].append(loss_test.numpy())\n",
    "        self.pres['train'].append(pres_train.numpy())\n",
    "        self.pres['test'].append(pres_test.numpy())\n",
    "    \n",
    "    def save_best_model(self, model):\n",
    "        if self.pres['test'][-1] == min(self.pres['test']):\n",
    "            self.best_weights = model.get_weights()[:(len(model.policy_arch)-1)*2]\n",
    "\n",
    "    def plot(self):\n",
    "        _, ax = plt.subplots(2,1, figsize=(10,10))\n",
    "        ax[0].plot(self.loss['train'], label='train')\n",
    "        ax[0].plot(self.loss['test'], label='test')\n",
    "        ax[0].set_ylabel('loss')\n",
    "        ax[0].legend()\n",
    "        ax[1].plot(self.pres['train'], label='train')\n",
    "        ax[1].plot(self.pres['test'], label='test')\n",
    "        ax[1].set_ylabel('pressure')\n",
    "        ax[1].legend()\n",
    "        plt.show()\n",
    "\n",
    "class Verbose():\n",
    "    def __init__(self, metric_collector, optimizer, epochs):\n",
    "        self.metric_collector = metric_collector\n",
    "        self.optimizer = optimizer\n",
    "        self.epochs = epochs\n",
    "        self.best_model = None\n",
    "\n",
    "    def on_batch_end(self, epoch, model):\n",
    "        print(f\"e: {epoch}/{self.epochs}, lr: {self.optimizer.learning_rate.numpy():.6f}, loss: {self.metric_collector.loss['train'][-1]:.4f}, pres: {self.metric_collector.pres['train'][-1]:.4f}, loss_val: {self.metric_collector.loss['test'][-1]:.4f}, pres_val: {self.metric_collector.pres['test'][-1]:.4f}\")\n"
   ]
  },
  {
   "cell_type": "code",
   "execution_count": 10,
   "metadata": {},
   "outputs": [
    {
     "name": "stdout",
     "output_type": "stream",
     "text": [
      "e: 1/100, lr: 0.000010, loss: 6.8680, pres: 11976.1621, loss_val: 62.7171, pres_val: 7610.0801\n",
      "e: 2/100, lr: 0.000010, loss: 7.1755, pres: 11442.8535, loss_val: 61.6773, pres_val: 7367.2515\n",
      "e: 3/100, lr: 0.000010, loss: 7.8595, pres: 10913.9297, loss_val: 61.2187, pres_val: 7153.7334\n",
      "e: 4/100, lr: 0.000010, loss: 8.8779, pres: 10384.9648, loss_val: 61.1754, pres_val: 6962.4834\n",
      "e: 5/100, lr: 0.000010, loss: 10.1880, pres: 9857.9150, loss_val: 61.4131, pres_val: 6786.0020\n",
      "e: 6/100, lr: 0.000010, loss: 11.7104, pres: 9333.1113, loss_val: 61.7806, pres_val: 6622.7969\n",
      "e: 7/100, lr: 0.000010, loss: 13.3720, pres: 8798.7012, loss_val: 62.2627, pres_val: 6462.6812\n",
      "e: 8/100, lr: 0.000010, loss: 15.0550, pres: 8258.5000, loss_val: 62.8313, pres_val: 6305.5356\n",
      "e: 9/100, lr: 0.000010, loss: 16.6704, pres: 7709.6851, loss_val: 63.4607, pres_val: 6151.5918\n",
      "e: 10/100, lr: 0.000010, loss: 18.1608, pres: 7157.7612, loss_val: 64.1379, pres_val: 6005.5532\n",
      "e: 11/100, lr: 0.000010, loss: 27.5731, pres: 5330.5327, loss_val: 69.9909, pres_val: 5401.7100\n",
      "e: 12/100, lr: 0.000010, loss: 33.7230, pres: 4326.3525, loss_val: 73.1824, pres_val: 4926.1240\n",
      "e: 13/100, lr: 0.000010, loss: 36.9280, pres: 3701.9114, loss_val: 75.4527, pres_val: 4541.5596\n",
      "e: 14/100, lr: 0.000010, loss: 38.7436, pres: 3214.8960, loss_val: 77.5470, pres_val: 4183.5894\n",
      "e: 15/100, lr: 0.000010, loss: 39.9104, pres: 2771.8804, loss_val: 79.7632, pres_val: 3841.6292\n",
      "e: 16/100, lr: 0.000010, loss: 40.5788, pres: 2350.3188, loss_val: 82.2299, pres_val: 3506.7451\n",
      "e: 17/100, lr: 0.000010, loss: 40.7819, pres: 1958.4651, loss_val: 84.6386, pres_val: 3191.2188\n",
      "e: 18/100, lr: 0.000010, loss: 40.7475, pres: 1586.3486, loss_val: 87.0022, pres_val: 2894.1294\n",
      "e: 19/100, lr: 0.000010, loss: 40.4360, pres: 1263.7963, loss_val: 89.0322, pres_val: 2647.8872\n",
      "e: 20/100, lr: 0.000010, loss: 39.7795, pres: 1027.3976, loss_val: 90.5391, pres_val: 2471.2236\n",
      "e: 21/100, lr: 0.000010, loss: 46.8277, pres: 437.6784, loss_val: 99.0447, pres_val: 1682.5376\n",
      "e: 22/100, lr: 0.000010, loss: 50.7483, pres: 241.8474, loss_val: 103.9530, pres_val: 1311.8943\n",
      "e: 23/100, lr: 0.000010, loss: 50.6961, pres: 177.3264, loss_val: 105.3475, pres_val: 1210.0415\n",
      "e: 24/100, lr: 0.000010, loss: 49.8481, pres: 146.4813, loss_val: 105.7508, pres_val: 1170.6199\n",
      "e: 25/100, lr: 0.000010, loss: 48.9671, pres: 127.8967, loss_val: 105.8342, pres_val: 1144.8270\n",
      "e: 26/100, lr: 0.000010, loss: 48.2137, pres: 114.6431, loss_val: 105.8065, pres_val: 1120.6173\n",
      "e: 27/100, lr: 0.000010, loss: 47.5560, pres: 104.1790, loss_val: 105.7179, pres_val: 1098.9658\n",
      "e: 28/100, lr: 0.000010, loss: 46.9213, pres: 96.7800, loss_val: 105.4994, pres_val: 1085.3232\n",
      "e: 29/100, lr: 0.000010, loss: 46.4363, pres: 90.5521, loss_val: 105.1926, pres_val: 1075.6604\n",
      "e: 30/100, lr: 0.000010, loss: 46.0042, pres: 85.6497, loss_val: 104.8309, pres_val: 1068.5516\n",
      "e: 31/100, lr: 0.000010, loss: 50.0956, pres: 29.2983, loss_val: 109.4035, pres_val: 797.4413\n",
      "e: 32/100, lr: 0.000010, loss: 51.8593, pres: 16.3743, loss_val: 111.1770, pres_val: 688.3195\n",
      "e: 33/100, lr: 0.000010, loss: 50.0401, pres: 19.3468, loss_val: 109.3503, pres_val: 785.3308\n",
      "e: 34/100, lr: 0.000010, loss: 49.5418, pres: 18.1734, loss_val: 108.8031, pres_val: 801.6266\n",
      "e: 35/100, lr: 0.000010, loss: 49.0768, pres: 16.8787, loss_val: 108.2716, pres_val: 808.2836\n",
      "e: 36/100, lr: 0.000010, loss: 48.7383, pres: 15.8136, loss_val: 107.6950, pres_val: 813.1149\n",
      "e: 37/100, lr: 0.000010, loss: 48.3639, pres: 14.7247, loss_val: 107.0916, pres_val: 820.8257\n",
      "e: 38/100, lr: 0.000010, loss: 47.9934, pres: 14.4661, loss_val: 106.5007, pres_val: 825.0817\n",
      "e: 39/100, lr: 0.000010, loss: 47.6424, pres: 13.3543, loss_val: 105.9219, pres_val: 831.1636\n",
      "e: 40/100, lr: 0.000010, loss: 47.2907, pres: 13.1623, loss_val: 105.2702, pres_val: 837.0723\n",
      "e: 41/100, lr: 0.000010, loss: 49.6824, pres: 4.6093, loss_val: 107.7770, pres_val: 709.5552\n",
      "e: 42/100, lr: 0.000010, loss: 51.0479, pres: 2.7787, loss_val: 108.8555, pres_val: 647.9207\n",
      "e: 43/100, lr: 0.000010, loss: 49.0083, pres: 3.5086, loss_val: 106.6294, pres_val: 776.8523\n",
      "e: 44/100, lr: 0.000010, loss: 49.2003, pres: 2.3840, loss_val: 106.5919, pres_val: 754.3778\n",
      "e: 45/100, lr: 0.000010, loss: 48.8281, pres: 2.3308, loss_val: 105.8938, pres_val: 760.4524\n",
      "e: 46/100, lr: 0.000010, loss: 48.9602, pres: 1.7495, loss_val: 105.7662, pres_val: 728.0947\n",
      "e: 47/100, lr: 0.000010, loss: 50.2911, pres: 1.4800, loss_val: 106.7794, pres_val: 632.0242\n",
      "e: 48/100, lr: 0.000010, loss: 47.9019, pres: 2.0263, loss_val: 104.0733, pres_val: 779.0716\n",
      "e: 49/100, lr: 0.000010, loss: 47.8612, pres: 1.6624, loss_val: 103.8088, pres_val: 766.9299\n",
      "e: 50/100, lr: 0.000010, loss: 49.1776, pres: 1.1252, loss_val: 104.8295, pres_val: 673.9081\n",
      "e: 51/100, lr: 0.000010, loss: 47.8102, pres: 0.6385, loss_val: 103.3718, pres_val: 787.0885\n",
      "e: 52/100, lr: 0.000010, loss: 49.7625, pres: 0.0954, loss_val: 105.1989, pres_val: 666.9404\n",
      "e: 53/100, lr: 0.000010, loss: 52.8041, pres: 0.0000, loss_val: 107.5488, pres_val: 522.6354\n",
      "e: 54/100, lr: 0.000010, loss: 50.1095, pres: 0.3090, loss_val: 104.3554, pres_val: 657.1999\n",
      "e: 55/100, lr: 0.000010, loss: 47.8897, pres: 0.3233, loss_val: 101.9375, pres_val: 797.8304\n",
      "e: 56/100, lr: 0.000010, loss: 47.6114, pres: 0.2138, loss_val: 101.7160, pres_val: 778.3036\n",
      "e: 57/100, lr: 0.000010, loss: 48.1245, pres: 0.1960, loss_val: 102.1348, pres_val: 672.9366\n",
      "e: 58/100, lr: 0.000010, loss: 45.9622, pres: 0.6776, loss_val: 99.8396, pres_val: 792.2736\n",
      "e: 59/100, lr: 0.000010, loss: 45.7425, pres: 0.2478, loss_val: 99.3801, pres_val: 833.2095\n",
      "e: 60/100, lr: 0.000010, loss: 46.2648, pres: 0.2335, loss_val: 99.7355, pres_val: 800.6095\n",
      "e: 61/100, lr: 0.000010, loss: 46.4727, pres: 0.0000, loss_val: 99.9556, pres_val: 812.6223\n",
      "e: 62/100, lr: 0.000010, loss: 47.9453, pres: 0.0000, loss_val: 101.7275, pres_val: 636.6870\n",
      "e: 63/100, lr: 0.000010, loss: 48.3719, pres: 0.3033, loss_val: 102.1067, pres_val: 550.4727\n",
      "e: 64/100, lr: 0.000010, loss: 49.8918, pres: 0.0000, loss_val: 103.8350, pres_val: 527.6644\n",
      "e: 65/100, lr: 0.000010, loss: 47.9754, pres: 0.1460, loss_val: 101.6777, pres_val: 633.7284\n",
      "e: 66/100, lr: 0.000010, loss: 48.3841, pres: 0.0000, loss_val: 101.7550, pres_val: 647.8825\n",
      "e: 67/100, lr: 0.000010, loss: 50.1379, pres: 0.0000, loss_val: 103.0449, pres_val: 578.7052\n",
      "e: 68/100, lr: 0.000010, loss: 55.6820, pres: 0.0000, loss_val: 107.9355, pres_val: 388.7629\n",
      "e: 69/100, lr: 0.000010, loss: 54.1025, pres: 0.0000, loss_val: 106.0474, pres_val: 456.5945\n",
      "e: 70/100, lr: 0.000010, loss: 52.2626, pres: 0.0000, loss_val: 103.9863, pres_val: 537.9648\n",
      "e: 71/100, lr: 0.000010, loss: 50.4186, pres: 0.0000, loss_val: 101.9308, pres_val: 633.2234\n",
      "e: 72/100, lr: 0.000010, loss: 48.5033, pres: 0.0000, loss_val: 99.8452, pres_val: 745.1638\n",
      "e: 73/100, lr: 0.000010, loss: 46.5886, pres: 0.0000, loss_val: 97.7648, pres_val: 870.3787\n",
      "e: 74/100, lr: 0.000010, loss: 49.5491, pres: 0.0000, loss_val: 100.9713, pres_val: 617.2141\n",
      "e: 75/100, lr: 0.000010, loss: 58.7203, pres: 0.0000, loss_val: 110.6091, pres_val: 173.6956\n",
      "e: 76/100, lr: 0.000010, loss: 58.3041, pres: 0.0000, loss_val: 109.9037, pres_val: 173.2527\n",
      "e: 77/100, lr: 0.000010, loss: 57.4714, pres: 0.1104, loss_val: 108.9052, pres_val: 184.4150\n",
      "e: 78/100, lr: 0.000010, loss: 58.1266, pres: 0.0000, loss_val: 109.3463, pres_val: 184.8376\n",
      "e: 79/100, lr: 0.000010, loss: 57.4867, pres: 0.0000, loss_val: 108.2786, pres_val: 195.8012\n",
      "e: 80/100, lr: 0.000010, loss: 56.2430, pres: 0.0000, loss_val: 106.9300, pres_val: 220.8215\n",
      "e: 81/100, lr: 0.000010, loss: 54.7137, pres: 0.0000, loss_val: 105.5281, pres_val: 257.2616\n",
      "e: 82/100, lr: 0.000010, loss: 53.0710, pres: 0.0000, loss_val: 104.0651, pres_val: 309.0268\n",
      "e: 83/100, lr: 0.000010, loss: 51.2103, pres: 0.7858, loss_val: 102.3512, pres_val: 380.9774\n",
      "e: 84/100, lr: 0.000010, loss: 62.2345, pres: 0.0000, loss_val: 113.9893, pres_val: 172.6487\n",
      "e: 85/100, lr: 0.000010, loss: 62.2728, pres: 0.0000, loss_val: 114.0562, pres_val: 179.7579\n",
      "e: 86/100, lr: 0.000010, loss: 61.5374, pres: 0.0000, loss_val: 113.3500, pres_val: 199.3817\n",
      "e: 87/100, lr: 0.000010, loss: 60.6820, pres: 0.0000, loss_val: 112.5517, pres_val: 222.7870\n",
      "e: 88/100, lr: 0.000010, loss: 59.7624, pres: 0.0000, loss_val: 111.6710, pres_val: 249.3837\n",
      "e: 89/100, lr: 0.000010, loss: 58.7071, pres: 0.0000, loss_val: 110.6039, pres_val: 286.9738\n",
      "e: 90/100, lr: 0.000010, loss: 57.5556, pres: 0.0000, loss_val: 109.4422, pres_val: 332.4403\n",
      "e: 91/100, lr: 0.000010, loss: 56.3445, pres: 0.0000, loss_val: 108.2747, pres_val: 382.6930\n",
      "e: 92/100, lr: 0.000010, loss: 55.0829, pres: 0.0000, loss_val: 107.0961, pres_val: 438.4101\n",
      "e: 93/100, lr: 0.000010, loss: 53.7849, pres: 0.0000, loss_val: 105.8899, pres_val: 500.2295\n",
      "e: 94/100, lr: 0.000010, loss: 52.4585, pres: 0.0000, loss_val: 104.6569, pres_val: 569.0958\n",
      "e: 95/100, lr: 0.000010, loss: 51.1104, pres: 0.0000, loss_val: 103.4097, pres_val: 644.5469\n",
      "e: 96/100, lr: 0.000010, loss: 49.7188, pres: 0.0000, loss_val: 102.1426, pres_val: 729.3177\n",
      "e: 97/100, lr: 0.000010, loss: 48.2594, pres: 0.0000, loss_val: 100.8134, pres_val: 829.3005\n",
      "e: 98/100, lr: 0.000010, loss: 51.9458, pres: 0.0000, loss_val: 104.2024, pres_val: 637.1724\n",
      "e: 99/100, lr: 0.000010, loss: 61.9355, pres: 0.0000, loss_val: 113.3192, pres_val: 302.4155\n",
      "e: 100/100, lr: 0.000010, loss: 61.4623, pres: 0.0000, loss_val: 113.0311, pres_val: 311.4169\n"
     ]
    }
   ],
   "source": [
    "metric_collector = MetricCollector()\n",
    "verbose = Verbose(metric_collector, optimizer, epochs)\n",
    "for epoch in range(epochs):\n",
    "    epoch_loss = 0\n",
    "    for batch in batches:\n",
    "        batch_loss = train_step(batch[0], batch[1], params)\n",
    "        epoch_loss += batch_loss\n",
    "\n",
    "    # update stats\n",
    "    metric_collector.update_state(\n",
    "        tf.concat(s_train,0), \n",
    "        tf.concat(a_train,0), \n",
    "        tf.concat(s_test,0), \n",
    "        tf.concat(a_test,0), \n",
    "        params,\n",
    "    ) \n",
    "\n",
    "    # save best model\n",
    "    metric_collector.save_best_model(model_combined)\n",
    "\n",
    "    # update parameters\n",
    "    if (epoch + 1) % 10 == 0:\n",
    "        params[\"lambda_pres\"] = (\n",
    "            params[\"lambda_pres\"]\n",
    "            + params[\"eta_pres\"] * metric_collector.pres[\"train\"][-1]\n",
    "        )\n",
    "        params[\"mu_pres\"] = params[\"mu_pres\"] * params[\"beta_pres\"]\n",
    "    \n",
    "    # print stats\n",
    "    verbose.on_batch_end(epoch+1, model_combined)\n",
    "    \n",
    "    # update learning rate\n",
    "    lr_scheduler.on_batch_end(metric_collector.pres['test'][-1])"
   ]
  },
  {
   "cell_type": "code",
   "execution_count": 16,
   "metadata": {},
   "outputs": [
    {
     "data": {
      "image/png": "[encoded data removed]",
      "text/plain": [
       "<Figure size 640x480 with 1 Axes>"
      ]
     },
     "metadata": {},
     "output_type": "display_data"
    }
   ],
   "source": [
    "plt.plot(model_combined.predict(s_val)[1][:,0], label='repaired')\n",
    "plt.plot(p_val[:,0], label='original')\n",
    "plt.legend()\n",
    "plt.show()"
   ]
  },
  {
   "attachments": {},
   "cell_type": "markdown",
   "metadata": {},
   "source": [
    "#### Save model"
   ]
  },
  {
   "cell_type": "code",
   "execution_count": 17,
   "metadata": {},
   "outputs": [
    {
     "name": "stdout",
     "output_type": "stream",
     "text": [
      "WARNING:tensorflow:Compiled the loaded model, but the compiled metrics have yet to be built. `model.compile_metrics` will be empty until you train or evaluate the model.\n",
      "INFO:tensorflow:Assets written to: /Users/keyvanmajd/Documents/SARP/examples/2_lower_leg_prosthesis/trained_models/repaired_policy_full_obs/model/assets\n"
     ]
    }
   ],
   "source": [
    "if not os.path.exists(current_dir + f\"/trained_models/repaired_policy_full_obs\"):\n",
    "    os.makedirs(current_dir + f\"/trained_models/repaired_policy_full_obs\")\n",
    "\n",
    "counter = 0\n",
    "for l in range(len(model_policy_orig.layers)):\n",
    "    if (len(model_policy_orig.layers[l].get_weights())) > 0:\n",
    "        model_policy_orig.layers[l].set_weights(\n",
    "            [metric_collector.best_weights[2*counter], metric_collector.best_weights[2*counter+1]]\n",
    "        )\n",
    "        counter += 1\n",
    "\n",
    "keras.models.save_model(\n",
    "    model_policy_orig,\n",
    "    f\"{current_dir}/trained_models/repaired_policy_full_obs/model\",\n",
    "    overwrite=True,\n",
    "    include_optimizer=False,\n",
    "    save_format=None,\n",
    "    signatures=None,\n",
    "    options=None,\n",
    "    save_traces=False,\n",
    ")"
   ]
  }
 ],
 "metadata": {
  "kernelspec": {
   "display_name": "Python 3",
   "language": "python",
   "name": "python3"
  },
  "language_info": {
   "codemirror_mode": {
    "name": "ipython",
    "version": 3
   },
   "file_extension": ".py",
   "mimetype": "text/x-python",
   "name": "python",
   "nbconvert_exporter": "python",
   "pygments_lexer": "ipython3",
   "version": "3.9.12"
  }
 },
 "nbformat": 4,
 "nbformat_minor": 2
}
